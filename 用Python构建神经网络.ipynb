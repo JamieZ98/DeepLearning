{
 "cells": [
  {
   "cell_type": "markdown",
   "metadata": {},
   "source": [
    "# 使用Python构建神经网络\n",
    "\n",
    "本节将使用Python语言和Numpy库来构建神经网络模型，向读者展示神经网络的基本概念和工作过程。\n",
    "\n",
    "\n",
    "## 构建神经网络/深度学习模型的基本步骤\n",
    "\n",
    "如之前的介绍，应用于不同场景的深度学习模型具备一定的通用性，均可以从下述五个步骤来完成模型的构建和训练。\n",
    "- 数据处理：从本地文件或网络地址读取数据，并做预处理操作，如校验数据的正确性等。\n",
    "- 模型设计：完成网络结构的设计（模型要素1），相当于模型的假设空间，即模型能够表达的关系集合。\n",
    "- 训练配置：设定模型采用的寻解算法（模型要素2），即优化器，并指定计算资源。\n",
    "- 训练过程：循环调用训练过程，每轮均包括前向计算 、损失函数（优化目标，模型要素3）和后向传播这三个步骤。\n",
    "- 保存模型：将训练好的模型保存，以备预测时调用。\n",
    "\n",
    "下面使用Python编写预测波士顿房价的模型，一样遵循这样的五个步骤。\n",
    "正是由于这个建模和训练的过程存在通用性，即不同的模型仅仅在模型三要素上不同，而五个步骤中的其它部分保持一致，深度学习框架才有用武之地。\n",
    "\n",
    "\n",
    "## 波士顿房价预测\n",
    "\n",
    "波士顿房价预测是一个经典的机器学习问题，类似于程序员世界的“Hello World”。波士顿地区的房价是由诸多因素影响的，该数据集统计了13种可能影响房价的因素和该类型房屋的均价，期望构建一个基于13个因素预测房价的模型。预测问题根据预测输出的类型是连续的实数值，还是离散的标签，区分为回归任务和分类任务。因为房价是一个连续值，所以房价预测显然是一个回归任务。下面我们尝试用最简单的线性回归模型解决这个问题，并用神经网络来实现这个模型。\n",
    "\n",
    "## 线性回归模型\n",
    "\n",
    "假设房价和各影响因素之间能够用线性关系来描述（类似牛顿第二定律的案例）：\n",
    "\n",
    "$$y = {\\sum_{j=1}^Mx_j w_j} + b$$\n",
    "\n",
    "模型的求解即是通过数据拟合出每个$w_j$和$b$。$w_j$和$b$分别表示该线性模型的权重和偏置。一维情况下，$w_j$和$b$就是直线的斜率和截距。\n",
    "\n"
   ]
  },
  {
   "cell_type": "markdown",
   "metadata": {},
   "source": [
    "## 数据处理\n",
    "\n",
    "在搭建模型之前，让我们先导入数据，查阅下内容。房价数据存放在本地目录下的housing.data文件中，通过执行如下的代码可以导入数据并查阅。"
   ]
  },
  {
   "cell_type": "code",
   "execution_count": 3,
   "metadata": {
    "ExecuteTime": {
     "end_time": "2021-04-27T13:02:29.397829Z",
     "start_time": "2021-04-27T13:02:29.373894Z"
    }
   },
   "outputs": [
    {
     "data": {
      "text/plain": [
       "array([6.320e-03, 1.800e+01, 2.310e+00, ..., 3.969e+02, 7.880e+00,\n",
       "       1.190e+01])"
      ]
     },
     "execution_count": 3,
     "metadata": {},
     "output_type": "execute_result"
    }
   ],
   "source": [
    "# 导入需要用到的package\n",
    "import numpy as np\n",
    "import json\n",
    "# 读入训练数据\n",
    "datafile = 'housing.data'\n",
    "data = np.fromfile(datafile, sep=' ')\n",
    "data"
   ]
  },
  {
   "cell_type": "markdown",
   "metadata": {},
   "source": [
    "因为读入的原始数据是1维的，所有数据都连在了一起。所以将数据的形状进行变换，形成一个2维的矩阵。每行为一个数据样本（14个值），每个数据样本包含13个X（影响房价的特征）和一个Y（该类型房屋的均价）。"
   ]
  },
  {
   "cell_type": "code",
   "execution_count": 4,
   "metadata": {
    "ExecuteTime": {
     "end_time": "2021-04-27T13:02:29.411053Z",
     "start_time": "2021-04-27T13:02:29.399826Z"
    }
   },
   "outputs": [],
   "source": [
    "# 读入之后的数据被转化成1维array，其中array的\n",
    "# 第0-13项是第一条数据，第14-27项是第二条数据，.... \n",
    "# 这里对原始数据做reshape，变成N x 14的形式\n",
    "feature_names = [ 'CRIM', 'ZN', 'INDUS', 'CHAS', 'NOX', 'RM', 'AGE','DIS', \n",
    "                 'RAD', 'TAX', 'PTRATIO', 'B', 'LSTAT', 'MEDV' ]\n",
    "feature_num = len(feature_names)\n",
    "data = data.reshape([data.shape[0] // feature_num, feature_num])"
   ]
  },
  {
   "cell_type": "code",
   "execution_count": 5,
   "metadata": {
    "ExecuteTime": {
     "end_time": "2021-04-27T13:02:29.425724Z",
     "start_time": "2021-04-27T13:02:29.412052Z"
    }
   },
   "outputs": [
    {
     "name": "stdout",
     "output_type": "stream",
     "text": [
      "(14,)\n",
      "[6.320e-03 1.800e+01 2.310e+00 0.000e+00 5.380e-01 6.575e+00 6.520e+01\n",
      " 4.090e+00 1.000e+00 2.960e+02 1.530e+01 3.969e+02 4.980e+00 2.400e+01]\n"
     ]
    }
   ],
   "source": [
    "# 查看数据\n",
    "x = data[0]\n",
    "print(x.shape)\n",
    "print(x)"
   ]
  },
  {
   "cell_type": "markdown",
   "metadata": {},
   "source": [
    "取80%的数据作为训练集，预留20%的数据用于测试模型的预测效果（训练好的模型预测值与实际房价的差距）。打印训练集的形状可见，我们共有404个样本，每个样本含有13个特征和1个预测值。"
   ]
  },
  {
   "cell_type": "code",
   "execution_count": 6,
   "metadata": {
    "ExecuteTime": {
     "end_time": "2021-04-27T13:02:29.441289Z",
     "start_time": "2021-04-27T13:02:29.427746Z"
    }
   },
   "outputs": [
    {
     "data": {
      "text/plain": [
       "(404, 14)"
      ]
     },
     "execution_count": 6,
     "metadata": {},
     "output_type": "execute_result"
    }
   ],
   "source": [
    "ratio = 0.8\n",
    "offset = int(data.shape[0] * ratio)\n",
    "training_data = data[:offset]\n",
    "training_data.shape"
   ]
  },
  {
   "cell_type": "markdown",
   "metadata": {},
   "source": [
    "对每个特征进行归一化处理，使得每个特征的取值缩放到0~1之间。这样做有两个好处：\n",
    "1. 模型训练更高效。\n",
    "2. 特征前的权重大小可代表该变量对预测结果的贡献度（因为每个特征值本身的范围相同）。"
   ]
  },
  {
   "cell_type": "code",
   "execution_count": 7,
   "metadata": {
    "ExecuteTime": {
     "end_time": "2021-04-27T13:02:29.456859Z",
     "start_time": "2021-04-27T13:02:29.443286Z"
    }
   },
   "outputs": [],
   "source": [
    "# 计算train数据集的最大值，最小值，平均值\n",
    "maximums, minimums, avgs = \\\n",
    "                     training_data.max(axis=0), \\\n",
    "                     training_data.min(axis=0), \\\n",
    "     training_data.sum(axis=0) / training_data.shape[0]\n",
    "# 对数据进行归一化处理\n",
    "for i in range(feature_num):\n",
    "    #print(maximums[i], minimums[i], avgs[i])\n",
    "    data[:, i] = (data[:, i] - avgs[i]) / (maximums[i] - minimums[i])"
   ]
  },
  {
   "cell_type": "markdown",
   "metadata": {},
   "source": [
    "将上述几个数据处理操作合并成load data函数，并确认函数的执行效果。"
   ]
  },
  {
   "cell_type": "code",
   "execution_count": 8,
   "metadata": {
    "ExecuteTime": {
     "end_time": "2021-04-27T13:02:29.472617Z",
     "start_time": "2021-04-27T13:02:29.457896Z"
    }
   },
   "outputs": [],
   "source": [
    "def load_data():\n",
    "    # 从文件导入数据\n",
    "    datafile = 'housing.data'\n",
    "    data = np.fromfile(datafile, sep=' ')\n",
    "\n",
    "    # 每条数据包括14项，其中前面13项是影响因素，第14项是相应的房屋价格中位数\n",
    "    feature_names = [ 'CRIM', 'ZN', 'INDUS', 'CHAS', 'NOX', 'RM', 'AGE', \\\n",
    "                      'DIS', 'RAD', 'TAX', 'PTRATIO', 'B', 'LSTAT', 'MEDV' ]\n",
    "    feature_num = len(feature_names)\n",
    "\n",
    "    # 将原始数据进行Reshape，变成[N, 14]这样的形状\n",
    "    data = data.reshape([data.shape[0] // feature_num, feature_num])\n",
    "\n",
    "    # 将原数据集拆分成训练集和测试集\n",
    "    # 这里使用80%的数据做训练，20%的数据做测试\n",
    "    # 测试集和训练集必须是没有交集的\n",
    "    ratio = 0.8\n",
    "    offset = int(data.shape[0] * ratio)\n",
    "    training_data = data[:offset]\n",
    "\n",
    "    # 计算train数据集的最大值，最小值，平均值\n",
    "    maximums, minimums, avgs = training_data.max(axis=0), training_data.min(axis=0), \\\n",
    "                                 training_data.sum(axis=0) / training_data.shape[0]\n",
    "\n",
    "    # 对数据进行归一化处理\n",
    "    for i in range(feature_num):\n",
    "        #print(maximums[i], minimums[i], avgs[i])\n",
    "        data[:, i] = (data[:, i] - avgs[i]) / (maximums[i] - minimums[i])\n",
    "\n",
    "    # 训练集和测试集的划分比例\n",
    "    training_data = data[:offset]\n",
    "    test_data = data[offset:]\n",
    "    return training_data, test_data"
   ]
  },
  {
   "cell_type": "code",
   "execution_count": 9,
   "metadata": {
    "ExecuteTime": {
     "end_time": "2021-04-27T13:02:29.485144Z",
     "start_time": "2021-04-27T13:02:29.473616Z"
    }
   },
   "outputs": [],
   "source": [
    "# 获取数据\n",
    "training_data, test_data = load_data()\n",
    "x = training_data[:, :-1]\n",
    "y = training_data[:, -1:]"
   ]
  },
  {
   "cell_type": "code",
   "execution_count": 10,
   "metadata": {
    "ExecuteTime": {
     "end_time": "2021-04-27T13:02:29.497844Z",
     "start_time": "2021-04-27T13:02:29.487176Z"
    }
   },
   "outputs": [
    {
     "name": "stdout",
     "output_type": "stream",
     "text": [
      "[-0.02146321  0.03767327 -0.28552309 -0.08663366  0.01289726  0.04634817\n",
      "  0.00795597 -0.00765794 -0.25172191 -0.11881188 -0.29002528  0.0519112\n",
      " -0.17590923]\n",
      "[-0.00390539]\n"
     ]
    }
   ],
   "source": [
    "# 查看数据\n",
    "print(x[0])\n",
    "print(y[0])"
   ]
  },
  {
   "cell_type": "markdown",
   "metadata": {},
   "source": [
    "如果将输入特征和输出预测值均以向量表示，输入特征x一共有13个分量，y只有1个分量，所以参数权重的形状（shape）应该是$13\\times1$。假设我们以如下任意数字赋值参数做初始化：\n",
    "$w=[0.1, 0.2, 0.3, 0.4, 0.5, 0.6, 0.7, 0.8, -0.1, -0.2, -0.3，-0.4, 0.0]$"
   ]
  },
  {
   "cell_type": "code",
   "execution_count": 11,
   "metadata": {
    "ExecuteTime": {
     "end_time": "2021-04-27T13:02:29.514470Z",
     "start_time": "2021-04-27T13:02:29.498842Z"
    }
   },
   "outputs": [],
   "source": [
    "w = [0.1, 0.2, 0.3, 0.4, 0.5, 0.6, 0.7, 0.8, -0.1, -0.2, -0.3, -0.4, 0.0]\n",
    "w = np.array(w).reshape([13, 1])"
   ]
  },
  {
   "cell_type": "markdown",
   "metadata": {},
   "source": [
    "取出第1条样本数据，观察样本的特征向量与参数向量相乘之后的结果。"
   ]
  },
  {
   "cell_type": "code",
   "execution_count": 12,
   "metadata": {
    "ExecuteTime": {
     "end_time": "2021-04-27T13:02:29.529655Z",
     "start_time": "2021-04-27T13:02:29.516496Z"
    }
   },
   "outputs": [
    {
     "name": "stdout",
     "output_type": "stream",
     "text": [
      "[0.03395597]\n"
     ]
    }
   ],
   "source": [
    "x1=x[0]\n",
    "t = np.dot(x1, w)\n",
    "print(t)"
   ]
  },
  {
   "cell_type": "markdown",
   "metadata": {},
   "source": [
    "此外，完整的线性回归公式，还需要初始化偏移量$b$，同样随意赋初值-0.2。\n",
    "那么，线性回归模型的完整输出是$z=t+b$，这个从特征和参数计算输出值的过程称为“前向计算”。"
   ]
  },
  {
   "cell_type": "code",
   "execution_count": 13,
   "metadata": {
    "ExecuteTime": {
     "end_time": "2021-04-27T13:02:29.543818Z",
     "start_time": "2021-04-27T13:02:29.530878Z"
    }
   },
   "outputs": [
    {
     "name": "stdout",
     "output_type": "stream",
     "text": [
      "[-0.16604403]\n"
     ]
    }
   ],
   "source": [
    "b = -0.2\n",
    "z = t + b\n",
    "print(z)"
   ]
  },
  {
   "cell_type": "markdown",
   "metadata": {},
   "source": [
    "## 构建神经网络\n",
    "\n",
    "将上述计算预测输出的过程以“类和对象”的方式来描述，实现的方案如下所示。类成员变量有参数 w 和 b，并写了一个forward函数（代表“前向计算”）完成上述从特征和参数到输出预测值的计算过程。"
   ]
  },
  {
   "cell_type": "code",
   "execution_count": 14,
   "metadata": {
    "ExecuteTime": {
     "end_time": "2021-04-27T13:02:29.557659Z",
     "start_time": "2021-04-27T13:02:29.544970Z"
    }
   },
   "outputs": [],
   "source": [
    "class Network(object):\n",
    "    def __init__(self, num_of_weights):\n",
    "        # 随机产生w的初始值\n",
    "        # 为了保持程序每次运行结果的一致性，\n",
    "        # 此处设置固定的随机数种子\n",
    "        np.random.seed(0)\n",
    "        self.w = np.random.randn(num_of_weights, 1)\n",
    "        self.b = 0.\n",
    "        \n",
    "    def forward(self, x):\n",
    "        z = np.dot(x, self.w) + self.b\n",
    "        return z"
   ]
  },
  {
   "cell_type": "markdown",
   "metadata": {},
   "source": [
    "基于Network类的定义，模型的计算过程可以按下述方式达成。"
   ]
  },
  {
   "cell_type": "code",
   "execution_count": 15,
   "metadata": {
    "ExecuteTime": {
     "end_time": "2021-04-27T13:02:29.576758Z",
     "start_time": "2021-04-27T13:02:29.559656Z"
    }
   },
   "outputs": [
    {
     "name": "stdout",
     "output_type": "stream",
     "text": [
      "[-0.63182506]\n"
     ]
    }
   ],
   "source": [
    "net = Network(13)\n",
    "x1 = x[0]\n",
    "y1 = y[0]\n",
    "z = net.forward(x1)\n",
    "print(z)"
   ]
  },
  {
   "cell_type": "markdown",
   "metadata": {},
   "source": [
    "通过模型计算$x_1$表示的影响因素所对应的房价应该是$z$, 但实际数据告诉我们房价是$y$，这时我们需要有某种指标来衡量预测值$z$跟真实值$y$之间的差距。对于回归问题，最常采用的衡量方法是使用均方误差作为评价模型好坏的指标，具体定义如下：\n",
    "$$Loss = (y - z)^2$$\n",
    "上式中的$Loss$(简记为: $L$) 通常也被称作损失函数，它是衡量模型好坏的指标，在回归问题中均方误差是一种比较常见的形式，分类问题中通常会采用交叉熵损失函数，在后续的章节中会更详细的介绍。\n",
    "对一个样本计算损失的代码实现如下："
   ]
  },
  {
   "cell_type": "code",
   "execution_count": 16,
   "metadata": {
    "ExecuteTime": {
     "end_time": "2021-04-27T13:02:29.591708Z",
     "start_time": "2021-04-27T13:02:29.578582Z"
    }
   },
   "outputs": [
    {
     "name": "stdout",
     "output_type": "stream",
     "text": [
      "[0.39428312]\n"
     ]
    }
   ],
   "source": [
    "Loss = (y1 - z)*(y1 - z)\n",
    "print(Loss)"
   ]
  },
  {
   "cell_type": "markdown",
   "metadata": {},
   "source": [
    "因为计算损失时需要把每个样本的损失都考虑到，所以我们需要对单个样本的损失函数进行求和，并除以样本总数$N$。\n",
    "$$L= \\frac{1}{N}\\sum_i{(y^{(i)} - z^{(i)})^2}$$\n",
    "对上面的计算代码做出相应的调整，在Network类下面添加损失函数的计算过程如下"
   ]
  },
  {
   "cell_type": "code",
   "execution_count": 17,
   "metadata": {
    "ExecuteTime": {
     "end_time": "2021-04-27T13:02:29.604054Z",
     "start_time": "2021-04-27T13:02:29.593704Z"
    }
   },
   "outputs": [],
   "source": [
    "class Network(object):\n",
    "    def __init__(self, num_of_weights):\n",
    "        # 随机产生w的初始值\n",
    "        # 为了保持程序每次运行结果的一致性，此处设置固定的随机数种子\n",
    "        np.random.seed(0)\n",
    "        self.w = np.random.randn(num_of_weights, 1)\n",
    "        self.b = 0.\n",
    "        \n",
    "    def forward(self, x):\n",
    "        z = np.dot(x, self.w) + self.b\n",
    "        return z\n",
    "    \n",
    "    def loss(self, z, y):\n",
    "        error = z - y\n",
    "        cost = error * error\n",
    "        cost = np.mean(cost)\n",
    "        return cost\n"
   ]
  },
  {
   "cell_type": "markdown",
   "metadata": {},
   "source": [
    "使用上面定义的Network类，可以方便的计算预测值和损失函数。\n",
    "需要注意，类中的变量x, w，b, z, error等均是向量。以变量x为例，共有两个维度，一个代表特征数量（=13），一个代表样本数量（演示程序如下）。"
   ]
  },
  {
   "cell_type": "code",
   "execution_count": 18,
   "metadata": {
    "ExecuteTime": {
     "end_time": "2021-04-27T13:02:29.619286Z",
     "start_time": "2021-04-27T13:02:29.605756Z"
    }
   },
   "outputs": [
    {
     "name": "stdout",
     "output_type": "stream",
     "text": [
      "predict:  [[-0.63182506]\n",
      " [-0.55793096]\n",
      " [-1.00062009]]\n",
      "loss: 0.7229825055441158\n"
     ]
    }
   ],
   "source": [
    "net = Network(13)\n",
    "# 此处可以一次性计算多个样本的预测值和损失函数\n",
    "x1 = x[0:3]\n",
    "y1 = y[0:3]\n",
    "z = net.forward(x1)\n",
    "print('predict: ', z)\n",
    "loss = net.loss(z, y1)\n",
    "print('loss:', loss)"
   ]
  },
  {
   "cell_type": "markdown",
   "metadata": {},
   "source": [
    "## 神经网络的训练\n",
    "\n",
    "上述计算过程描述了如何构建神经网络，通过神经网络完成预测值和损失函数的计算。接下来将介绍如何求解参数$w$和$b$的数值，这个过程也称为模型训练。模型训练的目标是让定义的损失函数尽可能的小，也就是说找到一个参数解$w$和$b$使得损失函数取得极小值。\n",
    "\n",
    "### 求解损失函数的极小值\n",
    "\n",
    "基于最基本的微积分知识，函数在极值点处的导数为0。那么，让损失函数取极小值的$w$和$b$应该是下述方程组的解：\n",
    "$$\\frac{\\partial{L}}{\\partial{w_j}}=0,  \\ \\ for \\ \\ \\ j = 0, ..., 12$$\n",
    "$$\\frac{\\partial{L}}{\\partial{b}}=0$$\n",
    "\n",
    "将样本数据$(x, y)$带入上面的方程组固然可以求解出$w$和$b$的值，但是这种方法只对线性回归这样简单的情况有效。如果模型中含有非线性变换，或者损失函数不是均方差这种简单形式，则很难通过上式求解。为了避免这一情况，下面我们将引入更加普适的数值求解方法。\n",
    "\n",
    "### 梯度下降法\n",
    "\n",
    "训练的关键是找到一组$(w, b)$使得损失函数$L$取极小值。我们先看一下损失函数$L$只随两个参数变化时的简单情形，启发下寻解的思路。\n",
    "$$L=L(w_5, w_9)$$\n",
    "这里我们将$w_0, w_1, ..., w_{12}$中除$w_5, w_9$之外的参数和$b$都固定下来，可以用图画出$L(w_5, w_9)$的形式。"
   ]
  },
  {
   "cell_type": "code",
   "execution_count": 19,
   "metadata": {
    "ExecuteTime": {
     "end_time": "2021-04-27T13:02:36.464297Z",
     "start_time": "2021-04-27T13:02:29.621257Z"
    }
   },
   "outputs": [
    {
     "data": {
      "text/plain": [
       "<Figure size 640x480 with 1 Axes>"
      ]
     },
     "metadata": {},
     "output_type": "display_data"
    }
   ],
   "source": [
    "net = Network(13)\n",
    "losses = []\n",
    "#只画出参数w5和w9在区间[-160, 160]的曲线部分，已经包含损失函数的极值\n",
    "w5 = np.arange(-160.0, 160.0, 1.0)\n",
    "w9 = np.arange(-160.0, 160.0, 1.0)\n",
    "losses = np.zeros([len(w5), len(w9)])\n",
    "\n",
    "#计算设定区域内每个参数取值所对应的Loss\n",
    "for i in range(len(w5)):\n",
    "    for j in range(len(w9)):\n",
    "        net.w[5] = w5[i]\n",
    "        net.w[9] = w9[j]\n",
    "        z = net.forward(x)\n",
    "        loss = net.loss(z, y)\n",
    "        losses[i, j] = loss\n",
    "\n",
    "#将两个变量和对应的Loss作3D图\n",
    "import matplotlib.pyplot as plt\n",
    "from mpl_toolkits.mplot3d import Axes3D\n",
    "fig = plt.figure()\n",
    "ax = Axes3D(fig)\n",
    "\n",
    "w5, w9 = np.meshgrid(w5, w9)\n",
    "\n",
    "ax.plot_surface(w5, w9, losses, rstride=1, cstride=1, cmap='rainbow')\n",
    "plt.show()"
   ]
  },
  {
   "cell_type": "markdown",
   "metadata": {},
   "source": [
    "### 简单情形——只考虑两个参数$w_5$和$w_9$\n",
    "\n",
    "对于这种简单情形，我们利用上面的程序在3维空间中画出了损失函数随参数变化的曲面图，从上图可以看出有些区域的函数值明显比周围的点小。需要说明的是：为什么这里我们选择$w_5$和$w_9$来画图？这是因为选择这两个参数的时候，可比较直观的从损失函数的曲面图上发现极值点的存在。其他参数组合，从图形上观测损失函数的极值点不够直观。\n",
    "\n",
    "现在我们要找出一组$[w_5, w_9]$的值，使得损失函数最小，实现梯度下降法的方案如下：\n",
    "\n",
    "- 随机的选一组初始值，例如：\n",
    "    $[w_5, w_9] = [-100.0, -100.0]$\n",
    "- 选取下一个点$[w_5^{'} , w_9^{'}]$使得\n",
    "   $L(w_5^{'} , w_9^{'}) < L(w_5, w_9)$\n",
    "- 重复上面的步骤2，直到损失函数几乎不再下降\n",
    "\n",
    "\n",
    "![](https://ai-studio-static-online.cdn.bcebos.com/b8e37d9e937d41c89c34af3884ad05947d5a9ec02316467da1b6012f9b0635c4)\n",
    "\n",
    "图1-2-1 ：梯度下降方向示意图\n",
    "\n",
    "如何选择$[w_5^{'} , w_9^{'}]$是至关重要的，第一要保证$L$是下降的，第二要使得下降的趋势尽可能的快。微积分的基础知识告诉我们，沿着梯度的反方向，是函数值下降最快的方向，如下图所示在点$P_0$，$[w_5, w_9] = [-100.0, -100.0]$，梯度方向是图中$P_0$点的箭头指向的方向，沿着箭头方向向前移动一小步，可以观察损失函数的变化。\n",
    "在$P_0$点，$[w_5, w_9] = [-150.0, -150.0]$，可以计算出，此时的loss在1300左右。\n",
    "\n",
    "### 计算梯度\n",
    "\n",
    "上面我们讲过了损失函数的计算方法，这里稍微加以改写，引入因子$\\frac{1}{2}$，定义损失函数如下\n",
    "$$L= \\frac{1}{2N}\\sum_{i=1}^N{(y^{(i)} - z^{(i)})^2}$$\n",
    "其中$z_i$是网络对第$i$个样本的预测值\n",
    "$$z^{(i)} = \\sum_{j=0}^{12}{x_j^{(i)} w^{(j)}} + b$$\n",
    "\n",
    "可以计算出$L$对$w$和$b$的偏导数\n",
    "\n",
    "$$\\frac{\\partial{L}}{\\partial{w_j}} = \\frac{1}{N}\\sum_i^N{(z^{(i)} - y^{(i)})\\frac{\\partial{z^{(i)}}}{w_j}} = \\frac{1}{N}\\sum_i^N{(z^{(i)} - y^{(i)})x_j^{(i)}}$$\n",
    "\n",
    "$$\\frac{\\partial{L}}{\\partial{b}} = \\frac{1}{N}\\sum_i^N{(z^{(i)} - y^{(i)})\\frac{\\partial{z^{(i)}}}{b}} = \\frac{1}{N}\\sum_i^N{(z^{(i)} - y^{(i)})}$$\n",
    "\n",
    "从导数的计算过程可以看出，因子$\\frac{1}{2}$被消掉了，这是因为二次函数求导的时候会产生因子$2$，这也是我们将损失函数改写的原因\n",
    "\n",
    "这里我们感兴趣的是$w_5$和$w_9$，\n",
    "$$\\frac{\\partial{C}}{\\partial{w_5}} = \\frac{1}{N}\\sum_i^N{(z^{(i)} - y^{(i)})x_5^{(i)}}$$\n",
    "$$\\frac{\\partial{C}}{\\partial{w_9}} = \\frac{1}{N}\\sum_i^N{(z^{(i)} - y^{(i)})x_9^{(i)}}$$\n",
    "\n",
    "则可以在Network类中定义如下的梯度计算函数"
   ]
  },
  {
   "cell_type": "markdown",
   "metadata": {},
   "source": [
    "梯度计算公式\n",
    "$$\\frac{\\partial{L}}{\\partial{w_j}} = \\frac{1}{N}\\sum_i^N{(z^{(i)} - y^{(i)})\\frac{\\partial{z_j^{(i)}}}{w_j}} = \\frac{1}{N}\\sum_i^N{(z^{(i)} - y^{(i)})x_j^{(i)}}$$\n",
    "\n",
    "借助于numpy里面的矩阵操作，我们可以直接对所有$w_j \\  (j = 0, ..., 12)$ 一次性的计算出13个参数所对应的梯度来\n",
    "\n",
    "先考虑只有一个样本的情况，上式中的$N=1$，$\\frac{\\partial{L}}{\\partial{w_j}}=(z^{(1)} - y^{(1)})x_j^{(1)}$\n",
    "\n",
    "可以通过具体的程序查看每个变量的数据和维度"
   ]
  },
  {
   "cell_type": "code",
   "execution_count": 20,
   "metadata": {
    "ExecuteTime": {
     "end_time": "2021-04-27T13:02:36.477504Z",
     "start_time": "2021-04-27T13:02:36.465349Z"
    }
   },
   "outputs": [
    {
     "name": "stdout",
     "output_type": "stream",
     "text": [
      "x1 [-0.02146321  0.03767327 -0.28552309 -0.08663366  0.01289726  0.04634817\n",
      "  0.00795597 -0.00765794 -0.25172191 -0.11881188 -0.29002528  0.0519112\n",
      " -0.17590923], shape (13,)\n",
      "y1 [-0.00390539], shape (1,)\n",
      "z1 [-12.05947643], shape (1,)\n"
     ]
    }
   ],
   "source": [
    "x1 = x[0]\n",
    "y1 = y[0]\n",
    "z1 = net.forward(x1)\n",
    "print('x1 {}, shape {}'.format(x1, x1.shape))\n",
    "print('y1 {}, shape {}'.format(y1, y1.shape))\n",
    "print('z1 {}, shape {}'.format(z1, z1.shape))"
   ]
  },
  {
   "cell_type": "markdown",
   "metadata": {},
   "source": [
    "按上面的公式，当只有一个样本时，可以计算某个$w_j$，比如$w_0$的梯度"
   ]
  },
  {
   "cell_type": "code",
   "execution_count": 21,
   "metadata": {
    "ExecuteTime": {
     "end_time": "2021-04-27T13:02:36.493219Z",
     "start_time": "2021-04-27T13:02:36.479499Z"
    }
   },
   "outputs": [
    {
     "name": "stdout",
     "output_type": "stream",
     "text": [
      "gradient_w0 [0.25875126]\n"
     ]
    }
   ],
   "source": [
    "gradient_w0 = (z1 - y1) * x1[0]\n",
    "print('gradient_w0 {}'.format(gradient_w0))"
   ]
  },
  {
   "cell_type": "markdown",
   "metadata": {},
   "source": [
    "同样我们可以计算$w_1$的梯度"
   ]
  },
  {
   "cell_type": "code",
   "execution_count": 22,
   "metadata": {
    "ExecuteTime": {
     "end_time": "2021-04-27T13:02:36.510036Z",
     "start_time": "2021-04-27T13:02:36.495450Z"
    }
   },
   "outputs": [
    {
     "name": "stdout",
     "output_type": "stream",
     "text": [
      "gradient_w1 [-0.45417275]\n"
     ]
    }
   ],
   "source": [
    "gradient_w1 = (z1 - y1) * x1[1]\n",
    "print('gradient_w1 {}'.format(gradient_w1))"
   ]
  },
  {
   "cell_type": "markdown",
   "metadata": {},
   "source": [
    "依次计算$w_2$的梯度"
   ]
  },
  {
   "cell_type": "code",
   "execution_count": 23,
   "metadata": {
    "ExecuteTime": {
     "end_time": "2021-04-27T13:02:36.526918Z",
     "start_time": "2021-04-27T13:02:36.511470Z"
    }
   },
   "outputs": [
    {
     "name": "stdout",
     "output_type": "stream",
     "text": [
      "gradient_w1 [3.44214394]\n"
     ]
    }
   ],
   "source": [
    "gradient_w2= (z1 - y1) * x1[2]\n",
    "print('gradient_w1 {}'.format(gradient_w2))"
   ]
  },
  {
   "cell_type": "markdown",
   "metadata": {},
   "source": [
    "写一个for循环即可计算从$w_0$到$w_{12}$的所有权重的梯度，但Numpy给我们提供了更简单的操作方法，即使用矩阵操作。\n",
    "计算梯度的代码中直接用  (z1 - y1) * x1，得到的是一个13维的向量，每个分量分别代表该维度的梯度。\n",
    "Numpy的广播功能（对向量和矩阵计算如同对1个单一变量计算一样）是我们使用它的原因。"
   ]
  },
  {
   "cell_type": "code",
   "execution_count": 24,
   "metadata": {
    "ExecuteTime": {
     "end_time": "2021-04-27T13:02:36.542061Z",
     "start_time": "2021-04-27T13:02:36.528915Z"
    }
   },
   "outputs": [
    {
     "name": "stdout",
     "output_type": "stream",
     "text": [
      "gradient_w_by_sample1 [ 0.25875126 -0.45417275  3.44214394  1.04441828 -0.15548386 -0.55875363\n",
      " -0.09591377  0.09232085  3.03465138  1.43234507  3.49642036 -0.62581917\n",
      "  2.12068622], gradient.shape (13,)\n"
     ]
    }
   ],
   "source": [
    "gradient_w = (z1 - y1) * x1\n",
    "print('gradient_w_by_sample1 {}, gradient.shape {}'.format(gradient_w, gradient_w.shape))"
   ]
  },
  {
   "cell_type": "markdown",
   "metadata": {},
   "source": [
    "再回到上面的梯度计算公式\n",
    "$$\\frac{\\partial{L}}{\\partial{w_j}} = \\frac{1}{N}\\sum_i^N{(z^{(i)} - y^{(i)})\\frac{\\partial{z^{(i)}}}{w_j}} = \\frac{1}{N}\\sum_i^N{(z^{(i)} - y^{(i)})x_j^{(i)}}$$\n",
    "\n",
    "这里输入数据中有多个样本，每个样本都对梯度有贡献。如上代码计算了只有样本1时的梯度值，同样的计算方法也可以计算样本2和样本3对梯度的贡献。"
   ]
  },
  {
   "cell_type": "code",
   "execution_count": 25,
   "metadata": {
    "ExecuteTime": {
     "end_time": "2021-04-27T13:02:36.557447Z",
     "start_time": "2021-04-27T13:02:36.544058Z"
    }
   },
   "outputs": [
    {
     "name": "stdout",
     "output_type": "stream",
     "text": [
      "gradient_w_by_sample2 [ 0.7329239   4.91417754  3.33394253  2.9912385   4.45673435 -0.58146277\n",
      " -5.14623287 -2.4894594   7.19011988  7.99471607  0.83100061 -1.79236081\n",
      "  2.11028056], gradient.shape (13,)\n"
     ]
    }
   ],
   "source": [
    "x2 = x[1]\n",
    "y2 = y[1]\n",
    "z2 = net.forward(x2)\n",
    "gradient_w = (z2 - y2) * x2\n",
    "print('gradient_w_by_sample2 {}, gradient.shape {}'.format(gradient_w, gradient_w.shape))"
   ]
  },
  {
   "cell_type": "code",
   "execution_count": 26,
   "metadata": {
    "ExecuteTime": {
     "end_time": "2021-04-27T13:02:36.570498Z",
     "start_time": "2021-04-27T13:02:36.559211Z"
    }
   },
   "outputs": [
    {
     "name": "stdout",
     "output_type": "stream",
     "text": [
      "gradient_w_by_sample3 [ 0.25138584  1.68549775  1.14349809  1.02595515  1.5286008  -1.93302947\n",
      "  0.4058236  -0.85385157  2.46611579  2.74208162  0.28502219 -0.46695229\n",
      "  2.39363651], gradient.shape (13,)\n"
     ]
    }
   ],
   "source": [
    "x3 = x[2]\n",
    "y3 = y[2]\n",
    "z3 = net.forward(x3)\n",
    "gradient_w = (z3 - y3) * x3\n",
    "print('gradient_w_by_sample3 {}, gradient.shape {}'.format(gradient_w, gradient_w.shape))"
   ]
  },
  {
   "cell_type": "markdown",
   "metadata": {},
   "source": [
    "可以使用for循环把每个样本对梯度的贡献都计算出来，然后再作平均。\n",
    "\n",
    "但是我们不需要这么做，仍然可以使用Numpy的矩阵操作来简化运算，比如三个样本的情况。"
   ]
  },
  {
   "cell_type": "code",
   "execution_count": 27,
   "metadata": {
    "ExecuteTime": {
     "end_time": "2021-04-27T13:02:36.586124Z",
     "start_time": "2021-04-27T13:02:36.572489Z"
    }
   },
   "outputs": [
    {
     "name": "stdout",
     "output_type": "stream",
     "text": [
      "x [[-0.02146321  0.03767327 -0.28552309 -0.08663366  0.01289726  0.04634817\n",
      "   0.00795597 -0.00765794 -0.25172191 -0.11881188 -0.29002528  0.0519112\n",
      "  -0.17590923]\n",
      " [-0.02122729 -0.14232673 -0.09655922 -0.08663366 -0.12907805  0.0168406\n",
      "   0.14904763  0.0721009  -0.20824365 -0.23154675 -0.02406783  0.0519112\n",
      "  -0.06111894]\n",
      " [-0.02122751 -0.14232673 -0.09655922 -0.08663366 -0.12907805  0.1632288\n",
      "  -0.03426854  0.0721009  -0.20824365 -0.23154675 -0.02406783  0.03943037\n",
      "  -0.20212336]], shape (3, 13)\n",
      "y [[-0.00390539]\n",
      " [-0.05723872]\n",
      " [ 0.23387239]], shape (3, 1)\n",
      "z [[-12.05947643]\n",
      " [-34.58467747]\n",
      " [-11.60858134]], shape (3, 1)\n"
     ]
    }
   ],
   "source": [
    "# 注意这里是一次取出3个样本的数据，不是取出第3个样本\n",
    "x3samples = x[0:3]\n",
    "y3samples = y[0:3]\n",
    "z3samples = net.forward(x3samples)\n",
    "\n",
    "print('x {}, shape {}'.format(x3samples, x3samples.shape))\n",
    "print('y {}, shape {}'.format(y3samples, y3samples.shape))\n",
    "print('z {}, shape {}'.format(z3samples, z3samples.shape))"
   ]
  },
  {
   "cell_type": "markdown",
   "metadata": {},
   "source": [
    "上面的x3samples, y3samples, z3samples的第一维大小均为3，表示有3个样本。下面计算这3个样本对梯度的贡献。"
   ]
  },
  {
   "cell_type": "code",
   "execution_count": 28,
   "metadata": {
    "ExecuteTime": {
     "end_time": "2021-04-27T13:02:36.601553Z",
     "start_time": "2021-04-27T13:02:36.588131Z"
    }
   },
   "outputs": [
    {
     "name": "stdout",
     "output_type": "stream",
     "text": [
      "gradient_w [[ 0.25875126 -0.45417275  3.44214394  1.04441828 -0.15548386 -0.55875363\n",
      "  -0.09591377  0.09232085  3.03465138  1.43234507  3.49642036 -0.62581917\n",
      "   2.12068622]\n",
      " [ 0.7329239   4.91417754  3.33394253  2.9912385   4.45673435 -0.58146277\n",
      "  -5.14623287 -2.4894594   7.19011988  7.99471607  0.83100061 -1.79236081\n",
      "   2.11028056]\n",
      " [ 0.25138584  1.68549775  1.14349809  1.02595515  1.5286008  -1.93302947\n",
      "   0.4058236  -0.85385157  2.46611579  2.74208162  0.28502219 -0.46695229\n",
      "   2.39363651]], gradient.shape (3, 13)\n"
     ]
    }
   ],
   "source": [
    "gradient_w = (z3samples - y3samples) * x3samples\n",
    "print('gradient_w {}, gradient.shape {}'.format(gradient_w, gradient_w.shape))"
   ]
  },
  {
   "cell_type": "markdown",
   "metadata": {},
   "source": [
    "此处可见，计算梯度gradient_w的维度是$3 \\times 13$，并且其第1行与上面第1个样本计算的梯度gradient_w_by_sample1一致，第2行与上面第2个样本计算的梯度gradient_w_by_sample1一致，第3行与上面第3个样本计算的梯度gradient_w_by_sample1一致。这里使用矩阵操作，可能更加方便的对3个样本分别计算各自对梯度的贡献。\n",
    "\n",
    "那么对于有N个样本的情形，我们可以直接使用如下方式计算出所有样本对梯度的贡献，这就是使用Numpy库广播功能带来的便捷。"
   ]
  },
  {
   "cell_type": "code",
   "execution_count": 29,
   "metadata": {
    "ExecuteTime": {
     "end_time": "2021-04-27T13:02:36.620011Z",
     "start_time": "2021-04-27T13:02:36.603150Z"
    }
   },
   "outputs": [
    {
     "name": "stdout",
     "output_type": "stream",
     "text": [
      "gradient_w shape (404, 13)\n",
      "[[  0.25875126  -0.45417275   3.44214394 ...   3.49642036  -0.62581917\n",
      "    2.12068622]\n",
      " [  0.7329239    4.91417754   3.33394253 ...   0.83100061  -1.79236081\n",
      "    2.11028056]\n",
      " [  0.25138584   1.68549775   1.14349809 ...   0.28502219  -0.46695229\n",
      "    2.39363651]\n",
      " ...\n",
      " [ 14.70025543 -15.10890735  36.23258734 ...  24.54882966   5.51071122\n",
      "   26.26098922]\n",
      " [  9.29832217 -15.33146159  36.76629344 ...  24.91043398  -1.27564923\n",
      "   26.61808955]\n",
      " [ 19.55115919 -10.8177237   25.94192351 ...  17.5765494    3.94557661\n",
      "   17.64891012]]\n"
     ]
    }
   ],
   "source": [
    "z = net.forward(x)\n",
    "gradient_w = (z - y) * x\n",
    "print('gradient_w shape {}'.format(gradient_w.shape))\n",
    "print(gradient_w)"
   ]
  },
  {
   "cell_type": "markdown",
   "metadata": {},
   "source": [
    "上面gradient_w的每一行代表了一个样本对梯度的贡献。根据梯度的计算公式，总梯度是对每个样本对梯度贡献的平均值。\n",
    "我们也可以使用Numpy的均值函数来完成此过程："
   ]
  },
  {
   "cell_type": "code",
   "execution_count": 30,
   "metadata": {
    "ExecuteTime": {
     "end_time": "2021-04-27T13:02:36.635878Z",
     "start_time": "2021-04-27T13:02:36.622005Z"
    }
   },
   "outputs": [
    {
     "name": "stdout",
     "output_type": "stream",
     "text": [
      "gradient_w  (13,)\n",
      "w  (13, 1)\n",
      "[ 1.59697064 -0.92928123  4.72726926  1.65712204  4.96176389  1.18068454\n",
      "  4.55846519 -3.37770889  9.57465893 10.29870662  1.3900257  -0.30152215\n",
      "  1.09276043]\n",
      "[[ 1.76405235e+00]\n",
      " [ 4.00157208e-01]\n",
      " [ 9.78737984e-01]\n",
      " [ 2.24089320e+00]\n",
      " [ 1.86755799e+00]\n",
      " [ 1.59000000e+02]\n",
      " [ 9.50088418e-01]\n",
      " [-1.51357208e-01]\n",
      " [-1.03218852e-01]\n",
      " [ 1.59000000e+02]\n",
      " [ 1.44043571e-01]\n",
      " [ 1.45427351e+00]\n",
      " [ 7.61037725e-01]]\n"
     ]
    }
   ],
   "source": [
    "# axis = 0 表示把每一行做相加然后再除以总的行数\n",
    "gradient_w = np.mean(gradient_w, axis=0)\n",
    "print('gradient_w ', gradient_w.shape)\n",
    "print('w ', net.w.shape)\n",
    "print(gradient_w)\n",
    "print(net.w)\n"
   ]
  },
  {
   "cell_type": "markdown",
   "metadata": {},
   "source": [
    "我们使用numpy的矩阵操作方便的完成了gradient的计算，但引入了一个问题，gradient_w的形状是(13,)，而w的维度是(13, 1)。导致该问题的原因是使用np.mean函数的时候消除了第0维。为了加减乘除等计算方便，gradient_w和w必须保持一致的形状。所以，我们将gradient_w的维度也设置为(13, 1)，代码如下："
   ]
  },
  {
   "cell_type": "code",
   "execution_count": 31,
   "metadata": {
    "ExecuteTime": {
     "end_time": "2021-04-27T13:02:36.651962Z",
     "start_time": "2021-04-27T13:02:36.637897Z"
    }
   },
   "outputs": [
    {
     "name": "stdout",
     "output_type": "stream",
     "text": [
      "gradient_w shape (13, 1)\n"
     ]
    }
   ],
   "source": [
    "gradient_w = gradient_w[:, np.newaxis]\n",
    "print('gradient_w shape', gradient_w.shape)"
   ]
  },
  {
   "cell_type": "markdown",
   "metadata": {},
   "source": [
    "综合上面的讨论，我们可以把计算梯度的代码整理如下："
   ]
  },
  {
   "cell_type": "code",
   "execution_count": 32,
   "metadata": {
    "ExecuteTime": {
     "end_time": "2021-04-27T13:02:36.667142Z",
     "start_time": "2021-04-27T13:02:36.653988Z"
    }
   },
   "outputs": [
    {
     "data": {
      "text/plain": [
       "array([[ 1.59697064],\n",
       "       [-0.92928123],\n",
       "       [ 4.72726926],\n",
       "       [ 1.65712204],\n",
       "       [ 4.96176389],\n",
       "       [ 1.18068454],\n",
       "       [ 4.55846519],\n",
       "       [-3.37770889],\n",
       "       [ 9.57465893],\n",
       "       [10.29870662],\n",
       "       [ 1.3900257 ],\n",
       "       [-0.30152215],\n",
       "       [ 1.09276043]])"
      ]
     },
     "execution_count": 32,
     "metadata": {},
     "output_type": "execute_result"
    }
   ],
   "source": [
    "z = net.forward(x)\n",
    "gradient_w = (z - y) * x\n",
    "gradient_w = np.mean(gradient_w, axis=0)\n",
    "gradient_w = gradient_w[:, np.newaxis]\n",
    "gradient_w"
   ]
  },
  {
   "cell_type": "markdown",
   "metadata": {},
   "source": [
    "上述代码非常简洁的完成了$w$的梯度计算。同样，计算$b$的梯度的代码也是类似的原理。"
   ]
  },
  {
   "cell_type": "code",
   "execution_count": 33,
   "metadata": {
    "ExecuteTime": {
     "end_time": "2021-04-27T13:02:36.681619Z",
     "start_time": "2021-04-27T13:02:36.669163Z"
    }
   },
   "outputs": [
    {
     "data": {
      "text/plain": [
       "-1.0918438870293816e-13"
      ]
     },
     "execution_count": 33,
     "metadata": {},
     "output_type": "execute_result"
    }
   ],
   "source": [
    "gradient_b = (z - y)\n",
    "gradient_b = np.mean(gradient_b)\n",
    "# 此处b是一个数值，所以可以直接用np.mean得到一个标量\n",
    "gradient_b"
   ]
  },
  {
   "cell_type": "markdown",
   "metadata": {},
   "source": [
    "将上面计算$w$和$b$的梯度的过程，写成Network类的gradient函数，代码如下所示。"
   ]
  },
  {
   "cell_type": "code",
   "execution_count": 34,
   "metadata": {
    "ExecuteTime": {
     "end_time": "2021-04-27T13:02:36.694086Z",
     "start_time": "2021-04-27T13:02:36.682918Z"
    }
   },
   "outputs": [],
   "source": [
    "class Network(object):\n",
    "    def __init__(self, num_of_weights):\n",
    "        # 随机产生w的初始值\n",
    "        # 为了保持程序每次运行结果的一致性，此处设置固定的随机数种子\n",
    "        np.random.seed(0)\n",
    "        self.w = np.random.randn(num_of_weights, 1)\n",
    "        self.b = 0.\n",
    "        \n",
    "    def forward(self, x):\n",
    "        z = np.dot(x, self.w) + self.b\n",
    "        return z\n",
    "    \n",
    "    def loss(self, z, y):\n",
    "        error = z - y\n",
    "        num_samples = error.shape[0]\n",
    "        cost = error * error\n",
    "        cost = np.sum(cost) / num_samples\n",
    "        return cost\n",
    "    \n",
    "    def gradient(self, x, y):\n",
    "        z = self.forward(x)\n",
    "        gradient_w = (z-y)*x\n",
    "        gradient_w = np.mean(gradient_w, axis=0)\n",
    "        gradient_w = gradient_w[:, np.newaxis]\n",
    "        gradient_b = (z - y)\n",
    "        gradient_b = np.mean(gradient_b)\n",
    "        \n",
    "        return gradient_w, gradient_b"
   ]
  },
  {
   "cell_type": "code",
   "execution_count": 35,
   "metadata": {
    "ExecuteTime": {
     "end_time": "2021-04-27T13:02:36.709608Z",
     "start_time": "2021-04-27T13:02:36.695324Z"
    }
   },
   "outputs": [
    {
     "name": "stdout",
     "output_type": "stream",
     "text": [
      "point [-100.0, -100.0], loss 686.3005008179159\n",
      "gradient [-0.850073323995813, -6.138412364807849]\n"
     ]
    }
   ],
   "source": [
    "# 调用上面定义的gradient函数，计算梯度\n",
    "# 初始化网络，\n",
    "net = Network(13)\n",
    "# 设置[w5, w9] = [-100., +100.]\n",
    "net.w[5] = -100.0\n",
    "net.w[9] = -100.0\n",
    "\n",
    "z = net.forward(x)\n",
    "loss = net.loss(z, y)\n",
    "gradient_w, gradient_b = net.gradient(x, y)\n",
    "gradient_w5 = gradient_w[5][0]\n",
    "gradient_w9 = gradient_w[9][0]\n",
    "print('point {}, loss {}'.format([net.w[5][0], net.w[9][0]], loss))\n",
    "print('gradient {}'.format([gradient_w5, gradient_w9]))\n"
   ]
  },
  {
   "cell_type": "markdown",
   "metadata": {},
   "source": [
    "### 寻找损失函数更小的点\n",
    "\n",
    "下面我们开始研究怎样更新梯度，首先沿着梯度的反方向移动一小步下下一个点P1，观察损失函数的变化。"
   ]
  },
  {
   "cell_type": "code",
   "execution_count": 36,
   "metadata": {
    "ExecuteTime": {
     "end_time": "2021-04-27T13:02:36.723058Z",
     "start_time": "2021-04-27T13:02:36.712729Z"
    }
   },
   "outputs": [
    {
     "name": "stdout",
     "output_type": "stream",
     "text": [
      "point [-99.91499266760042, -99.38615876351922], loss 678.6472185028845\n",
      "gradient [-0.8556356178645292, -6.0932268634065805]\n"
     ]
    }
   ],
   "source": [
    "# 在[w5, w9]平面上，沿着梯度的反方向移动到下一个点P1\n",
    "# 定义移动步长 eta\n",
    "eta = 0.1\n",
    "# 更新参数w5和w9\n",
    "net.w[5] = net.w[5] - eta * gradient_w5\n",
    "net.w[9] = net.w[9] - eta * gradient_w9\n",
    "# 重新计算z和loss\n",
    "z = net.forward(x)\n",
    "loss = net.loss(z, y)\n",
    "gradient_w, gradient_b = net.gradient(x, y)\n",
    "gradient_w5 = gradient_w[5][0]\n",
    "gradient_w9 = gradient_w[9][0]\n",
    "print('point {}, loss {}'.format([net.w[5][0], net.w[9][0]], loss))\n",
    "print('gradient {}'.format([gradient_w5, gradient_w9]))"
   ]
  },
  {
   "cell_type": "markdown",
   "metadata": {},
   "source": [
    "运行上面的代码，可以发现沿着梯度反方向走一小步，下一个点的损失函数的确减少了。\n",
    "\n",
    "- 读者可以不停的点击上面的代码块，观察损失函数是否一直在变小。\n",
    "\n",
    "将上面的循环的计算过程封装在train和update函数中，如下代码所示。"
   ]
  },
  {
   "cell_type": "code",
   "execution_count": 37,
   "metadata": {
    "ExecuteTime": {
     "end_time": "2021-04-27T13:02:37.121962Z",
     "start_time": "2021-04-27T13:02:36.725522Z"
    }
   },
   "outputs": [
    {
     "name": "stdout",
     "output_type": "stream",
     "text": [
      "iter 0, point [-99.99144364382136, -99.93861587635192], loss 686.3005008179159\n",
      "iter 50, point [-99.56362583488914, -96.92631128470325], loss 649.221346830939\n",
      "iter 100, point [-99.13580802595692, -94.02279509580971], loss 614.6970095624063\n",
      "iter 150, point [-98.7079902170247, -91.22404911807594], loss 582.543755023494\n",
      "iter 200, point [-98.28017240809248, -88.52620357520894], loss 552.5911329872217\n",
      "iter 250, point [-97.85235459916026, -85.9255316243737], loss 524.6810152322887\n",
      "iter 300, point [-97.42453679022805, -83.41844407682491], loss 498.6667034691001\n",
      "iter 350, point [-96.99671898129583, -81.00148431353688], loss 474.4121018974464\n",
      "iter 400, point [-96.56890117236361, -78.67132338862874], loss 451.7909497114133\n",
      "iter 450, point [-96.14108336343139, -76.42475531364933], loss 430.68610920670284\n",
      "iter 500, point [-95.71326555449917, -74.25869251604028], loss 410.988905460488\n",
      "iter 550, point [-95.28544774556696, -72.17016146534513], loss 392.5985138460824\n",
      "iter 600, point [-94.85762993663474, -70.15629846096763], loss 375.4213919156372\n",
      "iter 650, point [-94.42981212770252, -68.21434557551346], loss 359.3707524354014\n",
      "iter 700, point [-94.0019943187703, -66.34164674796719], loss 344.36607459115214\n",
      "iter 750, point [-93.57417650983808, -64.53564402117185], loss 330.33265059761464\n",
      "iter 800, point [-93.14635870090586, -62.793873918279786], loss 317.2011651461846\n",
      "iter 850, point [-92.71854089197365, -61.11396395304264], loss 304.907305311265\n",
      "iter 900, point [-92.29072308304143, -59.49362926899678], loss 293.3913987080144\n",
      "iter 950, point [-91.86290527410921, -57.930669402782904], loss 282.5980778542974\n",
      "iter 1000, point [-91.43508746517699, -56.4229651670156], loss 272.47596883802515\n",
      "iter 1050, point [-91.00726965624477, -54.968475648286564], loss 262.9774025287022\n",
      "iter 1100, point [-90.57945184731255, -53.56523531604897], loss 254.05814669965383\n",
      "iter 1150, point [-90.15163403838034, -52.21135123828792], loss 245.67715754581488\n",
      "iter 1200, point [-89.72381622944812, -50.90500040003218], loss 237.796349191773\n",
      "iter 1250, point [-89.2959984205159, -49.6444271209092], loss 230.3803798866218\n",
      "iter 1300, point [-88.86818061158368, -48.42794056808474], loss 223.3964536766492\n",
      "iter 1350, point [-88.44036280265146, -47.2539123610643], loss 216.81413643451378\n",
      "iter 1400, point [-88.01254499371925, -46.12077426496303], loss 210.60518520483126\n",
      "iter 1450, point [-87.58472718478703, -45.027015968976976], loss 204.74338990147896\n",
      "iter 1500, point [-87.15690937585481, -43.9711829469081], loss 199.20442646183588\n",
      "iter 1550, point [-86.72909156692259, -42.95187439671279], loss 193.96572062803054\n",
      "iter 1600, point [-86.30127375799037, -41.96774125615467], loss 189.00632158541163\n",
      "iter 1650, point [-85.87345594905815, -41.017484291751295], loss 184.3067847442463\n",
      "iter 1700, point [-85.44563814012594, -40.0998522583068], loss 179.84906300239203\n",
      "iter 1750, point [-85.01782033119372, -39.21364012642417], loss 175.61640587468244\n",
      "iter 1800, point [-84.5900025222615, -38.35768737548557], loss 171.59326591927967\n",
      "iter 1850, point [-84.16218471332928, -37.530876349682856], loss 167.76521193253296\n",
      "iter 1900, point [-83.73436690439706, -36.73213067476985], loss 164.11884842217898\n",
      "iter 1950, point [-83.30654909546485, -35.96041373329276], loss 160.64174090423475\n"
     ]
    },
    {
     "data": {
      "image/png": "[encoded data removed]",
      "text/plain": [
       "<Figure size 432x288 with 1 Axes>"
      ]
     },
     "metadata": {
      "needs_background": "light"
     },
     "output_type": "display_data"
    }
   ],
   "source": [
    "class Network(object):\n",
    "    def __init__(self, num_of_weights):\n",
    "        # 随机产生w的初始值\n",
    "        # 为了保持程序每次运行结果的一致性，此处设置固定的随机数种子\n",
    "        np.random.seed(0)\n",
    "        self.w = np.random.randn(num_of_weights,1)\n",
    "        self.w[5] = -100.\n",
    "        self.w[9] = -100.\n",
    "        self.b = 0.\n",
    "        \n",
    "    def forward(self, x):\n",
    "        z = np.dot(x, self.w) + self.b\n",
    "        return z\n",
    "    \n",
    "    def loss(self, z, y):\n",
    "        error = z - y\n",
    "        num_samples = error.shape[0]\n",
    "        cost = error * error\n",
    "        cost = np.sum(cost) / num_samples\n",
    "        return cost\n",
    "    \n",
    "    def gradient(self, x, y):\n",
    "        z = self.forward(x)\n",
    "        gradient_w = (z-y)*x\n",
    "        gradient_w = np.mean(gradient_w, axis=0)\n",
    "        gradient_w = gradient_w[:, np.newaxis]\n",
    "        gradient_b = (z - y)\n",
    "        gradient_b = np.mean(gradient_b)        \n",
    "        return gradient_w, gradient_b\n",
    "    \n",
    "    def update(self, graident_w5, gradient_w9, eta=0.01):\n",
    "        net.w[5] = net.w[5] - eta * gradient_w5\n",
    "        net.w[9] = net.w[9] - eta * gradient_w9\n",
    "        \n",
    "    def train(self, x, y, iterations=100, eta=0.01):\n",
    "        points = []\n",
    "        losses = []\n",
    "        for i in range(iterations):\n",
    "            points.append([net.w[5][0], net.w[9][0]])\n",
    "            z = self.forward(x)\n",
    "            L = self.loss(z, y)\n",
    "            gradient_w, gradient_b = self.gradient(x, y)\n",
    "            gradient_w5 = gradient_w[5][0]\n",
    "            gradient_w9 = gradient_w[9][0]\n",
    "            self.update(gradient_w5, gradient_w9, eta)\n",
    "            losses.append(L)\n",
    "            if i % 50 == 0:\n",
    "                print('iter {}, point {}, loss {}'.format(i, [net.w[5][0], net.w[9][0]], L))\n",
    "        return points, losses\n",
    "\n",
    "# 获取数据\n",
    "train_data, test_data = load_data()\n",
    "x = train_data[:, :-1]\n",
    "y = train_data[:, -1:]\n",
    "# 创建网络\n",
    "net = Network(13)\n",
    "num_iterations=2000\n",
    "# 启动训练\n",
    "points, losses = net.train(x, y, iterations=num_iterations, eta=0.01)\n",
    "\n",
    "# 画出损失函数的变化趋势\n",
    "plot_x = np.arange(num_iterations)\n",
    "plot_y = np.array(losses)\n",
    "plt.plot(plot_x, plot_y)\n",
    "plt.show()"
   ]
  },
  {
   "cell_type": "markdown",
   "metadata": {},
   "source": [
    "### 对所有参数计算梯度并更新\n",
    "\n",
    "为了能给读者直观的感受，上面演示的梯度下降法的过程仅包含$w_5$和$w_9$两个参数。房价预测的完整模型，必须要对所有参数$w$和$b$进行求解。这需要将Network中的update和train函数进行修改。由于不在限定参与计算的参数（所有参数均参与计算），修改之后的代码反而更加简洁。"
   ]
  },
  {
   "cell_type": "code",
   "execution_count": 38,
   "metadata": {
    "ExecuteTime": {
     "end_time": "2021-04-27T13:02:37.404325Z",
     "start_time": "2021-04-27T13:02:37.123935Z"
    }
   },
   "outputs": [
    {
     "name": "stdout",
     "output_type": "stream",
     "text": [
      "iter 9, loss 1.8984947314576224\n",
      "iter 19, loss 1.8031783384598725\n",
      "iter 29, loss 1.7135517565541092\n",
      "iter 39, loss 1.6292649416831264\n",
      "iter 49, loss 1.5499895293373231\n",
      "iter 59, loss 1.4754174896452612\n",
      "iter 69, loss 1.4052598659324693\n",
      "iter 79, loss 1.3392455915676864\n",
      "iter 89, loss 1.2771203802372917\n",
      "iter 99, loss 1.218645685090292\n",
      "iter 109, loss 1.1635977224791534\n",
      "iter 119, loss 1.111766556287068\n",
      "iter 129, loss 1.0629552390811503\n",
      "iter 139, loss 1.0169790065644477\n",
      "iter 149, loss 0.9736645220185994\n",
      "iter 159, loss 0.9328491676343147\n",
      "iter 169, loss 0.8943803798194309\n",
      "iter 179, loss 0.8581150257549611\n",
      "iter 189, loss 0.8239188186389669\n",
      "iter 199, loss 0.7916657692169988\n",
      "iter 209, loss 0.761237671346902\n",
      "iter 219, loss 0.7325236194855752\n",
      "iter 229, loss 0.7054195561163928\n",
      "iter 239, loss 0.6798278472589763\n",
      "iter 249, loss 0.6556568843183528\n",
      "iter 259, loss 0.6328207106387195\n",
      "iter 269, loss 0.6112386712285092\n",
      "iter 279, loss 0.59083508421862\n",
      "iter 289, loss 0.5715389327049418\n",
      "iter 299, loss 0.5532835757100347\n",
      "iter 309, loss 0.5360064770773406\n",
      "iter 319, loss 0.5196489511849665\n",
      "iter 329, loss 0.5041559244351538\n",
      "iter 339, loss 0.48947571154034963\n",
      "iter 349, loss 0.4755598056875569\n",
      "iter 359, loss 0.46236268171965056\n",
      "iter 369, loss 0.44984161152579916\n",
      "iter 379, loss 0.43795649088328303\n",
      "iter 389, loss 0.4266696770400226\n",
      "iter 399, loss 0.4159458363712466\n",
      "iter 409, loss 0.4057518014851036\n",
      "iter 419, loss 0.3960564371908221\n",
      "iter 429, loss 0.38683051477942226\n",
      "iter 439, loss 0.3780465941011246\n",
      "iter 449, loss 0.36967891295560856\n",
      "iter 459, loss 0.3617032833413179\n",
      "iter 469, loss 0.3540969941381647\n",
      "iter 479, loss 0.3468387198244131\n",
      "iter 489, loss 0.3399084348532937\n",
      "iter 499, loss 0.33328733333814486\n",
      "iter 509, loss 0.3269577537166779\n",
      "iter 519, loss 0.32090310808539985\n",
      "iter 529, loss 0.31510781591441284\n",
      "iter 539, loss 0.30955724187078903\n",
      "iter 549, loss 0.3042376374955925\n",
      "iter 559, loss 0.2991360864954391\n",
      "iter 569, loss 0.2942404534243286\n",
      "iter 579, loss 0.2895393355454012\n",
      "iter 589, loss 0.28502201767532415\n",
      "iter 599, loss 0.2806784298262616\n",
      "iter 609, loss 0.27649910747186535\n",
      "iter 619, loss 0.2724751542744919\n",
      "iter 629, loss 0.2685982071209627\n",
      "iter 639, loss 0.26486040332365085\n",
      "iter 649, loss 0.2612543498525749\n",
      "iter 659, loss 0.2577730944725093\n",
      "iter 669, loss 0.2544100986669443\n",
      "iter 679, loss 0.2511592122380609\n",
      "iter 689, loss 0.2480146494787638\n",
      "iter 699, loss 0.24497096681926708\n",
      "iter 709, loss 0.2420230418567802\n",
      "iter 719, loss 0.23916605368251415\n",
      "iter 729, loss 0.23639546442555454\n",
      "iter 739, loss 0.23370700193813698\n",
      "iter 749, loss 0.23109664355154746\n",
      "iter 759, loss 0.2285606008362593\n",
      "iter 769, loss 0.22609530530403904\n",
      "iter 779, loss 0.22369739499361888\n",
      "iter 789, loss 0.22136370188515422\n",
      "iter 799, loss 0.21909124009208833\n",
      "iter 809, loss 0.21687719478222933\n",
      "iter 819, loss 0.2147189117828403\n",
      "iter 829, loss 0.21261388782734392\n",
      "iter 839, loss 0.2105597614038757\n",
      "iter 849, loss 0.20855430416838638\n",
      "iter 859, loss 0.2065954128873093\n",
      "iter 869, loss 0.20468110187697833\n",
      "iter 879, loss 0.2028094959090178\n",
      "iter 889, loss 0.20097882355283644\n",
      "iter 899, loss 0.19918741092814596\n",
      "iter 909, loss 0.19743367584210875\n",
      "iter 919, loss 0.1957161222872899\n",
      "iter 929, loss 0.19403333527807182\n",
      "iter 939, loss 0.19238397600456975\n",
      "iter 949, loss 0.19076677728439412\n",
      "iter 959, loss 0.1891805392938162\n",
      "iter 969, loss 0.18762412556104593\n",
      "iter 979, loss 0.18609645920539716\n",
      "iter 989, loss 0.18459651940712488\n",
      "iter 999, loss 0.18312333809366155\n"
     ]
    },
    {
     "data": {
      "image/png": "[encoded data removed]",
      "text/plain": [
       "<Figure size 432x288 with 1 Axes>"
      ]
     },
     "metadata": {
      "needs_background": "light"
     },
     "output_type": "display_data"
    }
   ],
   "source": [
    "class Network(object):\n",
    "    def __init__(self, num_of_weights):\n",
    "        # 随机产生w的初始值\n",
    "        # 为了保持程序每次运行结果的一致性，此处设置固定的随机数种子\n",
    "        np.random.seed(0)\n",
    "        self.w = np.random.randn(num_of_weights, 1)\n",
    "        self.b = 0.\n",
    "        \n",
    "    def forward(self, x):\n",
    "        z = np.dot(x, self.w) + self.b\n",
    "        return z\n",
    "    \n",
    "    def loss(self, z, y):\n",
    "        error = z - y\n",
    "        num_samples = error.shape[0]\n",
    "        cost = error * error\n",
    "        cost = np.sum(cost) / num_samples\n",
    "        return cost\n",
    "    \n",
    "    def gradient(self, x, y):\n",
    "        z = self.forward(x)\n",
    "        gradient_w = (z-y)*x\n",
    "        gradient_w = np.mean(gradient_w, axis=0)\n",
    "        gradient_w = gradient_w[:, np.newaxis]\n",
    "        gradient_b = (z - y)\n",
    "        gradient_b = np.mean(gradient_b)        \n",
    "        return gradient_w, gradient_b\n",
    "    \n",
    "    def update(self, gradient_w, gradient_b, eta = 0.01):\n",
    "        self.w = self.w - eta * gradient_w\n",
    "        self.b = self.b - eta * gradient_b\n",
    "        \n",
    "    def train(self, x, y, iterations=100, eta=0.01):\n",
    "        losses = []\n",
    "        for i in range(iterations):\n",
    "            z = self.forward(x)\n",
    "            L = self.loss(z, y)\n",
    "            gradient_w, gradient_b = self.gradient(x, y)\n",
    "            self.update(gradient_w, gradient_b, eta)\n",
    "            losses.append(L)\n",
    "            if (i+1) % 10 == 0:\n",
    "                print('iter {}, loss {}'.format(i, L))\n",
    "        return losses\n",
    "\n",
    "# 获取数据\n",
    "train_data, test_data = load_data()\n",
    "x = train_data[:, :-1]\n",
    "y = train_data[:, -1:]\n",
    "# 创建网络\n",
    "net = Network(13)\n",
    "num_iterations=1000\n",
    "# 启动训练\n",
    "losses = net.train(x,y, iterations=num_iterations, eta=0.01)\n",
    "\n",
    "# 画出损失函数的变化趋势\n",
    "plot_x = np.arange(num_iterations)\n",
    "plot_y = np.array(losses)\n",
    "plt.plot(plot_x, plot_y)\n",
    "plt.show()"
   ]
  },
  {
   "cell_type": "markdown",
   "metadata": {},
   "source": [
    "### 小批量随机梯度下降法（Mini-batch Stochastic Gradient Descent）\n",
    "\n",
    "\n",
    "在上述程序中，每次迭代的时候均基于数据集中的全部数据进行计算。但在实际问题中数据集往往非常大，如果每次计算都使用全部的数据来计算损失函数和梯度，效率非常低。一个合理的解决方案是每次从总的数据集中随机抽取出小部分数据来代表整体，基于这部分数据计算梯度和损失，然后更新参数。这种方法被称作小批量随机梯度下降法（Mini-batch Stochastic Gradient Descent），简称SGD。每次迭代时抽取出来的一批数据被称为一个min-batch，一个mini-batch所包含的样本数目称为batch_size。当程序迭代的时候，按mini-batch逐渐抽取出样本，当把整个数据集都遍历到了的时候，则完成了一轮的训练，也叫一个epoch。启动训练时，可以将训练的轮数num_epochs和batch_size作为参数传入。\n",
    "\n",
    "下面结合程序介绍具体的实现过程。"
   ]
  },
  {
   "cell_type": "code",
   "execution_count": 39,
   "metadata": {
    "ExecuteTime": {
     "end_time": "2021-04-27T13:02:37.430543Z",
     "start_time": "2021-04-27T13:02:37.405352Z"
    }
   },
   "outputs": [
    {
     "data": {
      "text/plain": [
       "(404, 14)"
      ]
     },
     "execution_count": 39,
     "metadata": {},
     "output_type": "execute_result"
    }
   ],
   "source": [
    "# 获取数据\n",
    "train_data, test_data = load_data()\n",
    "train_data.shape"
   ]
  },
  {
   "cell_type": "markdown",
   "metadata": {},
   "source": [
    "train_data中一共包含404条数据，如果batch_size=10，即取前0-9号样本作为第一个mini-batch，命名train_data1。"
   ]
  },
  {
   "cell_type": "code",
   "execution_count": 40,
   "metadata": {
    "ExecuteTime": {
     "end_time": "2021-04-27T13:02:37.445271Z",
     "start_time": "2021-04-27T13:02:37.432569Z"
    }
   },
   "outputs": [
    {
     "data": {
      "text/plain": [
       "(10, 14)"
      ]
     },
     "execution_count": 40,
     "metadata": {},
     "output_type": "execute_result"
    }
   ],
   "source": [
    "train_data1 = train_data[0:10]\n",
    "train_data1.shape"
   ]
  },
  {
   "cell_type": "markdown",
   "metadata": {},
   "source": [
    "使用train_data1的数据（0-9号样本）计算梯度并更新网络参数。"
   ]
  },
  {
   "cell_type": "code",
   "execution_count": 41,
   "metadata": {
    "ExecuteTime": {
     "end_time": "2021-04-27T13:02:37.461215Z",
     "start_time": "2021-04-27T13:02:37.447269Z"
    }
   },
   "outputs": [
    {
     "data": {
      "text/plain": [
       "[0.9001866101467375]"
      ]
     },
     "execution_count": 41,
     "metadata": {},
     "output_type": "execute_result"
    }
   ],
   "source": [
    "net = Network(13)\n",
    "x = train_data1[:, :-1]\n",
    "y = train_data1[:, -1:]\n",
    "loss = net.train(x, y, iterations=1, eta=0.01)\n",
    "loss"
   ]
  },
  {
   "cell_type": "markdown",
   "metadata": {},
   "source": [
    "再取出10-19号样本作为第二个mini-batch，计算梯度并更新网络参数。"
   ]
  },
  {
   "cell_type": "code",
   "execution_count": 42,
   "metadata": {
    "ExecuteTime": {
     "end_time": "2021-04-27T13:02:37.475113Z",
     "start_time": "2021-04-27T13:02:37.462215Z"
    }
   },
   "outputs": [
    {
     "data": {
      "text/plain": [
       "[0.8903272433979659]"
      ]
     },
     "execution_count": 42,
     "metadata": {},
     "output_type": "execute_result"
    }
   ],
   "source": [
    "train_data2 = train_data[10:19]\n",
    "x = train_data1[:, :-1]\n",
    "y = train_data1[:, -1:]\n",
    "loss = net.train(x, y, iterations=1, eta=0.01)\n",
    "loss"
   ]
  },
  {
   "cell_type": "markdown",
   "metadata": {},
   "source": [
    "按此方法不断的取出新的mini-batch并逐渐更新网络参数。\n",
    "下面的程序可以将train_data分成大小为batch_size的多个mini_batch。"
   ]
  },
  {
   "cell_type": "code",
   "execution_count": 43,
   "metadata": {
    "ExecuteTime": {
     "end_time": "2021-04-27T13:02:37.490638Z",
     "start_time": "2021-04-27T13:02:37.477427Z"
    }
   },
   "outputs": [
    {
     "name": "stdout",
     "output_type": "stream",
     "text": [
      "total number of mini_batches is  41\n",
      "first mini_batch shape  (10, 14)\n",
      "last mini_batch shape  (4, 14)\n"
     ]
    }
   ],
   "source": [
    "batch_size = 10\n",
    "n = len(train_data)\n",
    "mini_batches = [train_data[k:k+batch_size] for k in range(0, n, batch_size)]\n",
    "print('total number of mini_batches is ', len(mini_batches))\n",
    "print('first mini_batch shape ', mini_batches[0].shape)\n",
    "print('last mini_batch shape ', mini_batches[-1].shape)"
   ]
  },
  {
   "cell_type": "markdown",
   "metadata": {},
   "source": [
    "上面的代码将train_data分成 $\\frac{404}{10} + 1 = 41$ 个 mini_batch了，其中前40个mini_batch，每个均含有10个样本，最后一个mini_batch只含有4个样本。"
   ]
  },
  {
   "cell_type": "markdown",
   "metadata": {},
   "source": [
    "另外，我们这里是按顺序取出mini_batch的，而SGD里面是随机的抽取一部分样本代表总体。为了实现随机抽样的效果，我们先将train_data里面的样本顺序随机打乱，然后再抽取mini_batch。随机打乱样本顺序，需要用到np.random.shuffle函数，下面先介绍它的用法。"
   ]
  },
  {
   "cell_type": "code",
   "execution_count": 44,
   "metadata": {
    "ExecuteTime": {
     "end_time": "2021-04-27T13:02:37.503895Z",
     "start_time": "2021-04-27T13:02:37.492632Z"
    }
   },
   "outputs": [
    {
     "name": "stdout",
     "output_type": "stream",
     "text": [
      "before shuffle [ 1  2  3  4  5  6  7  8  9 10 11 12]\n",
      "after shuffle [ 7  2 11  3  8  6 12  1  4  5 10  9]\n"
     ]
    }
   ],
   "source": [
    "# 新建一个array\n",
    "a = np.array([1,2,3,4,5,6,7,8,9,10,11,12])\n",
    "print('before shuffle', a)\n",
    "np.random.shuffle(a)\n",
    "print('after shuffle', a)"
   ]
  },
  {
   "cell_type": "markdown",
   "metadata": {},
   "source": [
    "多次运行上面的代码，可以发现每次执行shuffle函数后的数字顺序均不同。\n",
    "上面举的是一个1维数组乱序的案例，我们在观察下2维数组乱序后的效果。"
   ]
  },
  {
   "cell_type": "code",
   "execution_count": 45,
   "metadata": {
    "ExecuteTime": {
     "end_time": "2021-04-27T13:02:37.519452Z",
     "start_time": "2021-04-27T13:02:37.505465Z"
    }
   },
   "outputs": [
    {
     "name": "stdout",
     "output_type": "stream",
     "text": [
      "before shuffle\n",
      " [[ 1  2]\n",
      " [ 3  4]\n",
      " [ 5  6]\n",
      " [ 7  8]\n",
      " [ 9 10]\n",
      " [11 12]]\n",
      "after shuffle\n",
      " [[ 1  2]\n",
      " [ 3  4]\n",
      " [ 5  6]\n",
      " [ 9 10]\n",
      " [11 12]\n",
      " [ 7  8]]\n"
     ]
    }
   ],
   "source": [
    "# 新建一个array\n",
    "a = np.array([1,2,3,4,5,6,7,8,9,10,11,12])\n",
    "a = a.reshape([6, 2])\n",
    "print('before shuffle\\n', a)\n",
    "np.random.shuffle(a)\n",
    "print('after shuffle\\n', a)"
   ]
  },
  {
   "cell_type": "markdown",
   "metadata": {},
   "source": [
    "观察运行结果可发现，数组的元素在第0维被随机打乱，但第1维的顺序保持不变。例如数字2仍然紧挨在数字1的后面，数字8仍然紧挨在数字7的后面，而第二维的[3, 4]并不排在[1, 2]的后面。"
   ]
  },
  {
   "cell_type": "markdown",
   "metadata": {},
   "source": [
    "综上随机乱序和抽取mini_batch的步骤，我们可以改写训练过程如下。每个随机抽取的mini-batch数据，输入到模型中用于参数训练。"
   ]
  },
  {
   "cell_type": "code",
   "execution_count": 46,
   "metadata": {
    "ExecuteTime": {
     "end_time": "2021-04-27T13:02:37.550775Z",
     "start_time": "2021-04-27T13:02:37.521609Z"
    }
   },
   "outputs": [],
   "source": [
    "# 获取数据\n",
    "train_data, test_data = load_data()\n",
    "\n",
    "# 打乱样本顺序\n",
    "np.random.shuffle(train_data)\n",
    "\n",
    "# 将train_data分成多个mini_batch\n",
    "batch_size = 10\n",
    "n = len(train_data)\n",
    "mini_batches = [train_data[k:k+batch_size] for k in range(0, n, batch_size)]\n",
    "\n",
    "# 创建网络\n",
    "net = Network(13)\n",
    "\n",
    "# 依次使用每个mini_batch的数据\n",
    "for mini_batch in mini_batches:\n",
    "    x = mini_batch[:, :-1]\n",
    "    y = mini_batch[:, -1:]\n",
    "    loss = net.train(x, y, iterations=1)"
   ]
  },
  {
   "cell_type": "markdown",
   "metadata": {},
   "source": [
    "将这部分实现SGD算法的代码集成到Network类中的train函数中，最终的完整代码如下。"
   ]
  },
  {
   "cell_type": "code",
   "execution_count": 47,
   "metadata": {
    "ExecuteTime": {
     "end_time": "2021-04-27T13:02:37.814914Z",
     "start_time": "2021-04-27T13:02:37.553339Z"
    }
   },
   "outputs": [
    {
     "name": "stdout",
     "output_type": "stream",
     "text": [
      "Epoch   0 / iter   0, loss = 0.6273\n",
      "Epoch   0 / iter   1, loss = 0.4835\n",
      "Epoch   0 / iter   2, loss = 0.5830\n",
      "Epoch   0 / iter   3, loss = 0.5466\n",
      "Epoch   0 / iter   4, loss = 0.2147\n",
      "Epoch   1 / iter   0, loss = 0.6645\n",
      "Epoch   1 / iter   1, loss = 0.4875\n",
      "Epoch   1 / iter   2, loss = 0.4707\n",
      "Epoch   1 / iter   3, loss = 0.4153\n",
      "Epoch   1 / iter   4, loss = 0.1402\n",
      "Epoch   2 / iter   0, loss = 0.5897\n",
      "Epoch   2 / iter   1, loss = 0.4373\n",
      "Epoch   2 / iter   2, loss = 0.4631\n",
      "Epoch   2 / iter   3, loss = 0.3960\n",
      "Epoch   2 / iter   4, loss = 0.2340\n",
      "Epoch   3 / iter   0, loss = 0.4139\n",
      "Epoch   3 / iter   1, loss = 0.5635\n",
      "Epoch   3 / iter   2, loss = 0.3807\n",
      "Epoch   3 / iter   3, loss = 0.3975\n",
      "Epoch   3 / iter   4, loss = 0.1207\n",
      "Epoch   4 / iter   0, loss = 0.3786\n",
      "Epoch   4 / iter   1, loss = 0.4474\n",
      "Epoch   4 / iter   2, loss = 0.4019\n",
      "Epoch   4 / iter   3, loss = 0.4352\n",
      "Epoch   4 / iter   4, loss = 0.0435\n",
      "Epoch   5 / iter   0, loss = 0.4387\n",
      "Epoch   5 / iter   1, loss = 0.3886\n",
      "Epoch   5 / iter   2, loss = 0.3182\n",
      "Epoch   5 / iter   3, loss = 0.4189\n",
      "Epoch   5 / iter   4, loss = 0.1741\n",
      "Epoch   6 / iter   0, loss = 0.3191\n",
      "Epoch   6 / iter   1, loss = 0.3601\n",
      "Epoch   6 / iter   2, loss = 0.4199\n",
      "Epoch   6 / iter   3, loss = 0.3289\n",
      "Epoch   6 / iter   4, loss = 1.2691\n",
      "Epoch   7 / iter   0, loss = 0.3202\n",
      "Epoch   7 / iter   1, loss = 0.2855\n",
      "Epoch   7 / iter   2, loss = 0.4129\n",
      "Epoch   7 / iter   3, loss = 0.3331\n",
      "Epoch   7 / iter   4, loss = 0.2218\n",
      "Epoch   8 / iter   0, loss = 0.2368\n",
      "Epoch   8 / iter   1, loss = 0.3457\n",
      "Epoch   8 / iter   2, loss = 0.3339\n",
      "Epoch   8 / iter   3, loss = 0.3812\n",
      "Epoch   8 / iter   4, loss = 0.0534\n",
      "Epoch   9 / iter   0, loss = 0.3567\n",
      "Epoch   9 / iter   1, loss = 0.4033\n",
      "Epoch   9 / iter   2, loss = 0.1926\n",
      "Epoch   9 / iter   3, loss = 0.2803\n",
      "Epoch   9 / iter   4, loss = 0.1557\n",
      "Epoch  10 / iter   0, loss = 0.3435\n",
      "Epoch  10 / iter   1, loss = 0.2790\n",
      "Epoch  10 / iter   2, loss = 0.3456\n",
      "Epoch  10 / iter   3, loss = 0.2076\n",
      "Epoch  10 / iter   4, loss = 0.0935\n",
      "Epoch  11 / iter   0, loss = 0.3024\n",
      "Epoch  11 / iter   1, loss = 0.2517\n",
      "Epoch  11 / iter   2, loss = 0.2797\n",
      "Epoch  11 / iter   3, loss = 0.2989\n",
      "Epoch  11 / iter   4, loss = 0.0301\n",
      "Epoch  12 / iter   0, loss = 0.2507\n",
      "Epoch  12 / iter   1, loss = 0.2563\n",
      "Epoch  12 / iter   2, loss = 0.2971\n",
      "Epoch  12 / iter   3, loss = 0.2833\n",
      "Epoch  12 / iter   4, loss = 0.0597\n",
      "Epoch  13 / iter   0, loss = 0.2827\n",
      "Epoch  13 / iter   1, loss = 0.2094\n",
      "Epoch  13 / iter   2, loss = 0.2417\n",
      "Epoch  13 / iter   3, loss = 0.2985\n",
      "Epoch  13 / iter   4, loss = 0.4036\n",
      "Epoch  14 / iter   0, loss = 0.3085\n",
      "Epoch  14 / iter   1, loss = 0.2015\n",
      "Epoch  14 / iter   2, loss = 0.1830\n",
      "Epoch  14 / iter   3, loss = 0.2978\n",
      "Epoch  14 / iter   4, loss = 0.0630\n",
      "Epoch  15 / iter   0, loss = 0.2342\n",
      "Epoch  15 / iter   1, loss = 0.2780\n",
      "Epoch  15 / iter   2, loss = 0.2571\n",
      "Epoch  15 / iter   3, loss = 0.1838\n",
      "Epoch  15 / iter   4, loss = 0.0627\n",
      "Epoch  16 / iter   0, loss = 0.1896\n",
      "Epoch  16 / iter   1, loss = 0.1966\n",
      "Epoch  16 / iter   2, loss = 0.2018\n",
      "Epoch  16 / iter   3, loss = 0.3257\n",
      "Epoch  16 / iter   4, loss = 0.1268\n",
      "Epoch  17 / iter   0, loss = 0.1990\n",
      "Epoch  17 / iter   1, loss = 0.2031\n",
      "Epoch  17 / iter   2, loss = 0.2662\n",
      "Epoch  17 / iter   3, loss = 0.2128\n",
      "Epoch  17 / iter   4, loss = 0.0133\n",
      "Epoch  18 / iter   0, loss = 0.1780\n",
      "Epoch  18 / iter   1, loss = 0.1575\n",
      "Epoch  18 / iter   2, loss = 0.2547\n",
      "Epoch  18 / iter   3, loss = 0.2544\n",
      "Epoch  18 / iter   4, loss = 0.2007\n",
      "Epoch  19 / iter   0, loss = 0.1657\n",
      "Epoch  19 / iter   1, loss = 0.2000\n",
      "Epoch  19 / iter   2, loss = 0.2045\n",
      "Epoch  19 / iter   3, loss = 0.2524\n",
      "Epoch  19 / iter   4, loss = 0.0632\n",
      "Epoch  20 / iter   0, loss = 0.1629\n",
      "Epoch  20 / iter   1, loss = 0.1895\n",
      "Epoch  20 / iter   2, loss = 0.2523\n",
      "Epoch  20 / iter   3, loss = 0.1896\n",
      "Epoch  20 / iter   4, loss = 0.0918\n",
      "Epoch  21 / iter   0, loss = 0.1583\n",
      "Epoch  21 / iter   1, loss = 0.2322\n",
      "Epoch  21 / iter   2, loss = 0.1567\n",
      "Epoch  21 / iter   3, loss = 0.2089\n",
      "Epoch  21 / iter   4, loss = 0.2035\n",
      "Epoch  22 / iter   0, loss = 0.2273\n",
      "Epoch  22 / iter   1, loss = 0.1427\n",
      "Epoch  22 / iter   2, loss = 0.1712\n",
      "Epoch  22 / iter   3, loss = 0.1826\n",
      "Epoch  22 / iter   4, loss = 0.2878\n",
      "Epoch  23 / iter   0, loss = 0.1685\n",
      "Epoch  23 / iter   1, loss = 0.1622\n",
      "Epoch  23 / iter   2, loss = 0.1499\n",
      "Epoch  23 / iter   3, loss = 0.2329\n",
      "Epoch  23 / iter   4, loss = 0.1486\n",
      "Epoch  24 / iter   0, loss = 0.1617\n",
      "Epoch  24 / iter   1, loss = 0.2083\n",
      "Epoch  24 / iter   2, loss = 0.1442\n",
      "Epoch  24 / iter   3, loss = 0.1740\n",
      "Epoch  24 / iter   4, loss = 0.1641\n",
      "Epoch  25 / iter   0, loss = 0.1159\n",
      "Epoch  25 / iter   1, loss = 0.2064\n",
      "Epoch  25 / iter   2, loss = 0.1690\n",
      "Epoch  25 / iter   3, loss = 0.1778\n",
      "Epoch  25 / iter   4, loss = 0.0159\n",
      "Epoch  26 / iter   0, loss = 0.1730\n",
      "Epoch  26 / iter   1, loss = 0.1861\n",
      "Epoch  26 / iter   2, loss = 0.1387\n",
      "Epoch  26 / iter   3, loss = 0.1486\n",
      "Epoch  26 / iter   4, loss = 0.1090\n",
      "Epoch  27 / iter   0, loss = 0.1393\n",
      "Epoch  27 / iter   1, loss = 0.1775\n",
      "Epoch  27 / iter   2, loss = 0.1564\n",
      "Epoch  27 / iter   3, loss = 0.1245\n",
      "Epoch  27 / iter   4, loss = 0.7611\n",
      "Epoch  28 / iter   0, loss = 0.1470\n",
      "Epoch  28 / iter   1, loss = 0.1211\n",
      "Epoch  28 / iter   2, loss = 0.1285\n",
      "Epoch  28 / iter   3, loss = 0.1854\n",
      "Epoch  28 / iter   4, loss = 0.5240\n",
      "Epoch  29 / iter   0, loss = 0.1740\n",
      "Epoch  29 / iter   1, loss = 0.0898\n",
      "Epoch  29 / iter   2, loss = 0.1392\n",
      "Epoch  29 / iter   3, loss = 0.1842\n",
      "Epoch  29 / iter   4, loss = 0.0251\n",
      "Epoch  30 / iter   0, loss = 0.0978\n",
      "Epoch  30 / iter   1, loss = 0.1529\n",
      "Epoch  30 / iter   2, loss = 0.1640\n",
      "Epoch  30 / iter   3, loss = 0.1503\n",
      "Epoch  30 / iter   4, loss = 0.0975\n",
      "Epoch  31 / iter   0, loss = 0.1399\n",
      "Epoch  31 / iter   1, loss = 0.1595\n",
      "Epoch  31 / iter   2, loss = 0.1209\n",
      "Epoch  31 / iter   3, loss = 0.1203\n",
      "Epoch  31 / iter   4, loss = 0.2008\n",
      "Epoch  32 / iter   0, loss = 0.1501\n",
      "Epoch  32 / iter   1, loss = 0.1310\n",
      "Epoch  32 / iter   2, loss = 0.1065\n",
      "Epoch  32 / iter   3, loss = 0.1489\n",
      "Epoch  32 / iter   4, loss = 0.0818\n",
      "Epoch  33 / iter   0, loss = 0.1401\n",
      "Epoch  33 / iter   1, loss = 0.1367\n",
      "Epoch  33 / iter   2, loss = 0.0970\n",
      "Epoch  33 / iter   3, loss = 0.1481\n",
      "Epoch  33 / iter   4, loss = 0.0711\n",
      "Epoch  34 / iter   0, loss = 0.1157\n",
      "Epoch  34 / iter   1, loss = 0.1050\n",
      "Epoch  34 / iter   2, loss = 0.1378\n",
      "Epoch  34 / iter   3, loss = 0.1505\n",
      "Epoch  34 / iter   4, loss = 0.0429\n",
      "Epoch  35 / iter   0, loss = 0.1096\n",
      "Epoch  35 / iter   1, loss = 0.1279\n",
      "Epoch  35 / iter   2, loss = 0.1715\n",
      "Epoch  35 / iter   3, loss = 0.0888\n",
      "Epoch  35 / iter   4, loss = 0.0473\n",
      "Epoch  36 / iter   0, loss = 0.1350\n",
      "Epoch  36 / iter   1, loss = 0.0781\n",
      "Epoch  36 / iter   2, loss = 0.1458\n",
      "Epoch  36 / iter   3, loss = 0.1288\n",
      "Epoch  36 / iter   4, loss = 0.0421\n",
      "Epoch  37 / iter   0, loss = 0.1083\n",
      "Epoch  37 / iter   1, loss = 0.0972\n",
      "Epoch  37 / iter   2, loss = 0.1513\n",
      "Epoch  37 / iter   3, loss = 0.1236\n",
      "Epoch  37 / iter   4, loss = 0.0366\n",
      "Epoch  38 / iter   0, loss = 0.1204\n",
      "Epoch  38 / iter   1, loss = 0.1341\n",
      "Epoch  38 / iter   2, loss = 0.1109\n",
      "Epoch  38 / iter   3, loss = 0.0905\n",
      "Epoch  38 / iter   4, loss = 0.3906\n",
      "Epoch  39 / iter   0, loss = 0.0923\n",
      "Epoch  39 / iter   1, loss = 0.1094\n",
      "Epoch  39 / iter   2, loss = 0.1295\n",
      "Epoch  39 / iter   3, loss = 0.1239\n",
      "Epoch  39 / iter   4, loss = 0.0684\n",
      "Epoch  40 / iter   0, loss = 0.1188\n",
      "Epoch  40 / iter   1, loss = 0.0984\n",
      "Epoch  40 / iter   2, loss = 0.1067\n",
      "Epoch  40 / iter   3, loss = 0.1057\n",
      "Epoch  40 / iter   4, loss = 0.4602\n",
      "Epoch  41 / iter   0, loss = 0.1478\n",
      "Epoch  41 / iter   1, loss = 0.0980\n",
      "Epoch  41 / iter   2, loss = 0.0921\n",
      "Epoch  41 / iter   3, loss = 0.1020\n",
      "Epoch  41 / iter   4, loss = 0.0430\n",
      "Epoch  42 / iter   0, loss = 0.0991\n",
      "Epoch  42 / iter   1, loss = 0.0994\n",
      "Epoch  42 / iter   2, loss = 0.1270\n",
      "Epoch  42 / iter   3, loss = 0.0988\n",
      "Epoch  42 / iter   4, loss = 0.1176\n",
      "Epoch  43 / iter   0, loss = 0.1286\n",
      "Epoch  43 / iter   1, loss = 0.1013\n",
      "Epoch  43 / iter   2, loss = 0.1066\n",
      "Epoch  43 / iter   3, loss = 0.0779\n",
      "Epoch  43 / iter   4, loss = 0.1481\n",
      "Epoch  44 / iter   0, loss = 0.0840\n",
      "Epoch  44 / iter   1, loss = 0.0858\n",
      "Epoch  44 / iter   2, loss = 0.1388\n",
      "Epoch  44 / iter   3, loss = 0.1000\n",
      "Epoch  44 / iter   4, loss = 0.0313\n",
      "Epoch  45 / iter   0, loss = 0.0896\n",
      "Epoch  45 / iter   1, loss = 0.1173\n",
      "Epoch  45 / iter   2, loss = 0.0916\n",
      "Epoch  45 / iter   3, loss = 0.1043\n",
      "Epoch  45 / iter   4, loss = 0.0074\n",
      "Epoch  46 / iter   0, loss = 0.1008\n",
      "Epoch  46 / iter   1, loss = 0.0915\n",
      "Epoch  46 / iter   2, loss = 0.0877\n",
      "Epoch  46 / iter   3, loss = 0.1139\n",
      "Epoch  46 / iter   4, loss = 0.0292\n",
      "Epoch  47 / iter   0, loss = 0.0679\n",
      "Epoch  47 / iter   1, loss = 0.0987\n",
      "Epoch  47 / iter   2, loss = 0.0929\n",
      "Epoch  47 / iter   3, loss = 0.1098\n",
      "Epoch  47 / iter   4, loss = 0.4838\n",
      "Epoch  48 / iter   0, loss = 0.0693\n",
      "Epoch  48 / iter   1, loss = 0.1095\n",
      "Epoch  48 / iter   2, loss = 0.1128\n",
      "Epoch  48 / iter   3, loss = 0.0890\n",
      "Epoch  48 / iter   4, loss = 0.1008\n"
     ]
    },
    {
     "name": "stdout",
     "output_type": "stream",
     "text": [
      "Epoch  49 / iter   0, loss = 0.0724\n",
      "Epoch  49 / iter   1, loss = 0.0804\n",
      "Epoch  49 / iter   2, loss = 0.0919\n",
      "Epoch  49 / iter   3, loss = 0.1233\n",
      "Epoch  49 / iter   4, loss = 0.1849\n"
     ]
    },
    {
     "data": {
      "image/png": "[encoded data removed]",
      "text/plain": [
       "<Figure size 432x288 with 1 Axes>"
      ]
     },
     "metadata": {
      "needs_background": "light"
     },
     "output_type": "display_data"
    }
   ],
   "source": [
    "import numpy as np\n",
    "\n",
    "class Network(object):\n",
    "    def __init__(self, num_of_weights):\n",
    "        # 随机产生w的初始值\n",
    "        # 为了保持程序每次运行结果的一致性，此处设置固定的随机数种子\n",
    "        #np.random.seed(0)\n",
    "        self.w = np.random.randn(num_of_weights, 1)\n",
    "        self.b = 0.\n",
    "        \n",
    "    def forward(self, x):\n",
    "        z = np.dot(x, self.w) + self.b\n",
    "        return z\n",
    "    \n",
    "    def loss(self, z, y):\n",
    "        error = z - y\n",
    "        num_samples = error.shape[0]\n",
    "        cost = error * error\n",
    "        cost = np.sum(cost) / num_samples\n",
    "        return cost\n",
    "    \n",
    "    def gradient(self, x, y):\n",
    "        z = self.forward(x)\n",
    "        N = x.shape[0]\n",
    "        gradient_w = 1. / N * np.sum((z-y) * x, axis=0)\n",
    "        gradient_w = gradient_w[:, np.newaxis]\n",
    "        gradient_b = 1. / N * np.sum(z-y)\n",
    "        return gradient_w, gradient_b\n",
    "    \n",
    "    def update(self, gradient_w, gradient_b, eta = 0.01):\n",
    "        self.w = self.w - eta * gradient_w\n",
    "        self.b = self.b - eta * gradient_b\n",
    "            \n",
    "                \n",
    "    def train(self, training_data, num_epoches, batch_size=10, eta=0.01):\n",
    "        n = len(training_data)\n",
    "        losses = []\n",
    "        for epoch_id in range(num_epoches):\n",
    "            # 在每轮迭代开始之前，将训练数据的顺序随机的打乱，\n",
    "            # 然后再按每次取batch_size条数据的方式取出\n",
    "            np.random.shuffle(training_data)\n",
    "            # 将训练数据进行拆分，每个mini_batch包含batch_size条的数据\n",
    "            mini_batches = [training_data[k:k+batch_size] for k in range(0, n, batch_size)]\n",
    "            for iter_id, mini_batch in enumerate(mini_batches):\n",
    "                #print(self.w.shape)\n",
    "                #print(self.b)\n",
    "                x = mini_batch[:, :-1]\n",
    "                y = mini_batch[:, -1:]\n",
    "                a = self.forward(x)\n",
    "                loss = self.loss(a, y)\n",
    "                gradient_w, gradient_b = self.gradient(x, y)\n",
    "                self.update(gradient_w, gradient_b, eta)\n",
    "                losses.append(loss)\n",
    "                print('Epoch {:3d} / iter {:3d}, loss = {:.4f}'.\n",
    "                                 format(epoch_id, iter_id, loss))\n",
    "        \n",
    "        return losses\n",
    "\n",
    "# 获取数据\n",
    "train_data, test_data = load_data()\n",
    "\n",
    "# 创建网络\n",
    "net = Network(13)\n",
    "# 启动训练\n",
    "losses = net.train(train_data, num_epoches=50, batch_size=100, eta=0.1)\n",
    "\n",
    "# 画出损失函数的变化趋势\n",
    "plot_x = np.arange(len(losses))\n",
    "plot_y = np.array(losses)\n",
    "plt.plot(plot_x, plot_y)\n",
    "plt.show()"
   ]
  },
  {
   "cell_type": "markdown",
   "metadata": {},
   "source": [
    "## 总结\n",
    "\n",
    "我们详细讲解了如何使用numpy实现梯度下降算法，构建并训练了一个简单的线性模型实现波士顿房价预测，可以总结出，使用神经网络建模房价预测有三个要点：\n",
    "\n",
    "- 构建网络，初始化参数w和b，定义预测和损失函数的计算方法。\n",
    "\n",
    "- 随机选择初始点，建立梯度的计算方法，和参数更新方式。\n",
    "\n",
    "- 从总的数据集中抽取部分数据作为一个mini_batch，计算梯度并更新参数，不断迭代直到损失函数几乎不再下降。"
   ]
  }
 ],
 "metadata": {
  "kernelspec": {
   "display_name": "Python 3",
   "language": "python",
   "name": "python3"
  },
  "language_info": {
   "codemirror_mode": {
    "name": "ipython",
    "version": 3
   },
   "file_extension": ".py",
   "mimetype": "text/x-python",
   "name": "python",
   "nbconvert_exporter": "python",
   "pygments_lexer": "ipython3",
   "version": "3.7.0"
  },
  "toc": {
   "base_numbering": 1,
   "nav_menu": {},
   "number_sections": true,
   "sideBar": true,
   "skip_h1_title": false,
   "title_cell": "Table of Contents",
   "title_sidebar": "Contents",
   "toc_cell": false,
   "toc_position": {},
   "toc_section_display": true,
   "toc_window_display": false
  },
  "varInspector": {
   "cols": {
    "lenName": 16,
    "lenType": 16,
    "lenVar": 40
   },
   "kernels_config": {
    "python": {
     "delete_cmd_postfix": "",
     "delete_cmd_prefix": "del ",
     "library": "var_list.py",
     "varRefreshCmd": "print(var_dic_list())"
    },
    "r": {
     "delete_cmd_postfix": ") ",
     "delete_cmd_prefix": "rm(",
     "library": "var_list.r",
     "varRefreshCmd": "cat(var_dic_list()) "
    }
   },
   "types_to_exclude": [
    "module",
    "function",
    "builtin_function_or_method",
    "instance",
    "_Feature"
   ],
   "window_display": false
  }
 },
 "nbformat": 4,
 "nbformat_minor": 1
}
